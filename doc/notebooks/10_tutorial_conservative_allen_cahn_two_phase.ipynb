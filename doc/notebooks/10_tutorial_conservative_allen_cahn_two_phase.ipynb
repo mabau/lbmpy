{
 "cells": [
  {
   "cell_type": "markdown",
   "metadata": {},
   "source": [
    "# The conservative Allen-Cahn model for high Reynolds number, two phase flow with large-density and viscosity constrast"
   ]
  },
  {
   "cell_type": "code",
   "execution_count": 1,
   "metadata": {},
   "outputs": [],
   "source": [
    "from pystencils.session import *\n",
    "from lbmpy.session import *\n",
    "\n",
    "from pystencils.simp import sympy_cse\n",
    "from pystencils.boundaries import BoundaryHandling\n",
    "\n",
    "from lbmpy.phasefield_allen_cahn.contact_angle import ContactAngle\n",
    "from lbmpy.phasefield_allen_cahn.kernel_equations import *\n",
    "from lbmpy.phasefield_allen_cahn.parameter_calculation import calculate_parameters_rti, AllenCahnParameters\n",
    "from lbmpy.advanced_streaming import LBMPeriodicityHandling\n",
    "from lbmpy.boundaries import NoSlip, LatticeBoltzmannBoundaryHandling"
   ]
  },
  {
   "cell_type": "markdown",
   "metadata": {},
   "source": [
    "If `pycuda` is installed the simulation automatically runs on GPU"
   ]
  },
  {
   "cell_type": "code",
   "execution_count": 2,
   "metadata": {},
   "outputs": [
    {
     "name": "stdout",
     "output_type": "stream",
     "text": [
      "No pycuda installed\n"
     ]
    }
   ],
   "source": [
    "try:\n",
    "    import pycuda\n",
    "except ImportError:\n",
    "    pycuda = None\n",
    "    gpu = False\n",
    "    target = ps.Target.CPU\n",
    "    print('No pycuda installed')\n",
    "\n",
    "if pycuda:\n",
    "    gpu = True\n",
    "    target = ps.Target.GPU"
   ]
  },
  {
   "cell_type": "markdown",
   "metadata": {},
   "source": [
    "The conservative Allen-Cahn model (CACM) for two-phase flow is based on the work of Fakhari et al. (2017) [Improved locality of the phase-field lattice-Boltzmann model for immiscible fluids at high density ratios](http://dx.doi.org/10.1103/PhysRevE.96.053301). The model can be created for two-dimensional problems as well as three-dimensional problems, which have been described by Mitchell et al. (2018) [Development of a three-dimensional\n",
    "phase-field lattice Boltzmann method for the study of immiscible fluids at high density ratios](http://dx.doi.org/10.1103/PhysRevE.96.053301). Furthermore, cascaded lattice Boltzmann methods can be combined with the model which was described in [A cascaded phase-field lattice Boltzmann model for the simulation of incompressible, immiscible fluids with high density contrast](http://dx.doi.org/10.1016/j.camwa.2019.08.018)\n",
    "\n",
    "\n",
    "The CACM is suitable for simulating highly complex two phase flow problems with high-density ratios and high Reynolds numbers. In this tutorial, an overview is provided on how to derive the model with lbmpy. For this, the model is defined with two LBM populations. One for the interface tracking, which we call the phase-field LB step and one for recovering the hydrodynamic properties. The latter is called the hydrodynamic LB step."
   ]
  },
  {
   "cell_type": "markdown",
   "metadata": {},
   "source": [
    "## Geometry Setup\n",
    "\n",
    "First of all, the stencils for the phase-field LB step as well as the stencil for the hydrodynamic LB step are defined. According to the stencils, the simulation can be performed in either 2D- or 3D-space. For 2D simulations, only the D2Q9 stencil is supported. For 3D simulations, the D3Q15, D3Q19 and the D3Q27 stencil are supported. Note here that the cascaded LBM can not be derived for D3Q15 stencils."
   ]
  },
  {
   "cell_type": "code",
   "execution_count": 3,
   "metadata": {},
   "outputs": [],
   "source": [
    "stencil_phase = LBStencil(Stencil.D2Q9)\n",
    "stencil_hydro = LBStencil(Stencil.D2Q9)\n",
    "assert(len(stencil_phase[0]) == len(stencil_hydro[0]))\n",
    "\n",
    "dimensions = len(stencil_phase[0])"
   ]
  },
  {
   "cell_type": "markdown",
   "metadata": {},
   "source": [
    "Definition of the domain size"
   ]
  },
  {
   "cell_type": "code",
   "execution_count": 4,
   "metadata": {},
   "outputs": [],
   "source": [
    "# domain \n",
    "L0 = 256\n",
    "domain_size = (L0, 4 * L0)"
   ]
  },
  {
   "cell_type": "markdown",
   "metadata": {},
   "source": [
    "## Parameter definition\n",
    "\n",
    "The next step is to calculate all parameters which are needed for the simulation. In this example, a Rayleigh-Taylor instability test case is set up. The parameter calculation for this setup is already implemented in lbmpy and can be used with the dimensionless parameters which describe the problem."
   ]
  },
  {
   "cell_type": "code",
   "execution_count": 5,
   "metadata": {},
   "outputs": [],
   "source": [
    "# time step\n",
    "timesteps = 8000\n",
    "\n",
    "# reference time\n",
    "reference_time = 4000\n",
    "\n",
    "# calculate the parameters for the RTI\n",
    "parameters = calculate_parameters_rti(reference_length=L0,\n",
    "                                      reference_time=reference_time,\n",
    "                                      density_heavy=1.0,\n",
    "                                      capillary_number=0.44,\n",
    "                                      reynolds_number=3000,\n",
    "                                      atwood_number=0.998,\n",
    "                                      peclet_number=1000,\n",
    "                                      density_ratio=1000,\n",
    "                                      viscosity_ratio=100)"
   ]
  },
  {
   "cell_type": "markdown",
   "metadata": {},
   "source": [
    "This function returns a `AllenCahnParameters` class. It is struct like class holding all parameters for the conservative Allen Cahn model:"
   ]
  },
  {
   "cell_type": "code",
   "execution_count": 6,
   "metadata": {},
   "outputs": [
    {
     "data": {
      "text/html": [
       "\n",
       "        <table style=\"border:none; width: 100%\">\n",
       "            <tr style=\"border:none\">\n",
       "                <th style=\"border:none\" >Name</th>\n",
       "                <th style=\"border:none\" >SymPy Symbol </th>\n",
       "                <th style=\"border:none\" >Value</th>\n",
       "            </tr>\n",
       "            <tr style=\"border:none\">\n",
       "                            <td style=\"border:none\">Density heavy phase</td>\n",
       "                            <td style=\"border:none\">$\\rho_{H}$</td>\n",
       "                            <td style=\"border:none\">$1.0$</td>\n",
       "                         </tr>\n",
       "<tr style=\"border:none\">\n",
       "                            <td style=\"border:none\">Density light phase</td>\n",
       "                            <td style=\"border:none\">$\\rho_{L}$</td>\n",
       "                            <td style=\"border:none\">$0.001$</td>\n",
       "                         </tr>\n",
       "<tr style=\"border:none\">\n",
       "                            <td style=\"border:none\">Relaxation time heavy phase</td>\n",
       "                            <td style=\"border:none\">$\\tau_{H}$</td>\n",
       "                            <td style=\"border:none\">$0.0164004086170318$</td>\n",
       "                         </tr>\n",
       "<tr style=\"border:none\">\n",
       "                            <td style=\"border:none\">Relaxation time light phase</td>\n",
       "                            <td style=\"border:none\">$\\tau_{L}$</td>\n",
       "                            <td style=\"border:none\">$0.164004086170318$</td>\n",
       "                         </tr>\n",
       "<tr style=\"border:none\">\n",
       "                            <td style=\"border:none\">Relaxation rate Allen Cahn LB</td>\n",
       "                            <td style=\"border:none\">$\\omega_{\\phi}$</td>\n",
       "                            <td style=\"border:none\">$1.82082623441035$</td>\n",
       "                         </tr>\n",
       "<tr style=\"border:none\">\n",
       "                            <td style=\"border:none\">Gravitational acceleration</td>\n",
       "                            <td style=\"border:none\">$F_{g}$</td>\n",
       "                            <td style=\"border:none\">$-1.60320641282565 \\cdot 10^{-5}$</td>\n",
       "                         </tr>\n",
       "<tr style=\"border:none\">\n",
       "                            <td style=\"border:none\">Interface thickness</td>\n",
       "                            <td style=\"border:none\">$W$</td>\n",
       "                            <td style=\"border:none\">$5$</td>\n",
       "                         </tr>\n",
       "<tr style=\"border:none\">\n",
       "                            <td style=\"border:none\">Mobility</td>\n",
       "                            <td style=\"border:none\">$M_{m}$</td>\n",
       "                            <td style=\"border:none\">$0.0164004086170318$</td>\n",
       "                         </tr>\n",
       "<tr style=\"border:none\">\n",
       "                            <td style=\"border:none\">Surface tension</td>\n",
       "                            <td style=\"border:none\">$\\sigma$</td>\n",
       "                            <td style=\"border:none\">$0.000795967692961681$</td>\n",
       "                         </tr>\n",
       "\n",
       "        </table>\n",
       "        "
      ],
      "text/plain": [
       "<lbmpy.phasefield_allen_cahn.parameter_calculation.AllenCahnParameters at 0x126d30cd0>"
      ]
     },
     "execution_count": 6,
     "metadata": {},
     "output_type": "execute_result"
    }
   ],
   "source": [
    "parameters"
   ]
  },
  {
   "cell_type": "markdown",
   "metadata": {},
   "source": [
    "## Fields\n",
    "\n",
    "As a next step all fields which are needed get defined. To do so, we create a `datahandling` object. More details about it can be found in the third tutorial of the [pystencils framework]( http://pycodegen.pages.walberla.net/pystencils/). This object holds all fields and manages the kernel runs."
   ]
  },
  {
   "cell_type": "code",
   "execution_count": 7,
   "metadata": {},
   "outputs": [],
   "source": [
    "# create a datahandling object\n",
    "dh = ps.create_data_handling((domain_size), periodicity=(True, False), parallel=False, default_target=target)\n",
    "\n",
    "# pdf fields. g is used for hydrodynamics and h for the interface tracking \n",
    "g = dh.add_array(\"g\", values_per_cell=len(stencil_hydro))\n",
    "dh.fill(\"g\", 0.0, ghost_layers=True)\n",
    "h = dh.add_array(\"h\",values_per_cell=len(stencil_phase))\n",
    "dh.fill(\"h\", 0.0, ghost_layers=True)\n",
    "\n",
    "g_tmp = dh.add_array(\"g_tmp\", values_per_cell=len(stencil_hydro))\n",
    "dh.fill(\"g_tmp\", 0.0, ghost_layers=True)\n",
    "h_tmp = dh.add_array(\"h_tmp\",values_per_cell=len(stencil_phase))\n",
    "dh.fill(\"h_tmp\", 0.0, ghost_layers=True)\n",
    "\n",
    "# velocity field\n",
    "u = dh.add_array(\"u\", values_per_cell=dh.dim)\n",
    "dh.fill(\"u\", 0.0, ghost_layers=True)\n",
    "\n",
    "# phase-field\n",
    "C = dh.add_array(\"C\")\n",
    "dh.fill(\"C\", 0.0, ghost_layers=True)\n",
    "C_tmp = dh.add_array(\"C_tmp\")\n",
    "dh.fill(\"C_tmp\", 0.0, ghost_layers=True)"
   ]
  },
  {
   "cell_type": "markdown",
   "metadata": {},
   "source": [
    "As a next step the relaxation time is stated in a symbolic form. It is calculated via interpolation."
   ]
  },
  {
   "cell_type": "code",
   "execution_count": 8,
   "metadata": {},
   "outputs": [],
   "source": [
    "rho_L = parameters.symbolic_density_light\n",
    "rho_H = parameters.symbolic_density_heavy\n",
    "density = rho_L + C.center * (rho_H - rho_L)\n",
    "\n",
    "body_force = [0, 0, 0]\n",
    "body_force[1] = parameters.symbolic_gravitational_acceleration * density"
   ]
  },
  {
   "cell_type": "markdown",
   "metadata": {},
   "source": [
    "## Definition of the lattice Boltzmann methods"
   ]
  },
  {
   "cell_type": "markdown",
   "metadata": {},
   "source": [
    "For both LB steps, a weighted orthogonal MRT (WMRT) method is used. It is also possible to change the method to a simpler SRT scheme or a more complicated CLBM scheme. The CLBM scheme can be obtained with `Method.CENTRAL_MOMENT`. Note here that the hydrodynamic LB step is formulated as an incompressible velocity-based LBM. Thus, the velocity terms can not be removed from the equilibrium in the central moment space."
   ]
  },
  {
   "cell_type": "code",
   "execution_count": 9,
   "metadata": {},
   "outputs": [
    {
     "data": {
      "text/html": [
       "\n",
       "        <table style=\"border:none; width: 100%\">\n",
       "            <tr>\n",
       "                <th colspan=\"3\" style=\"text-align: left\">\n",
       "                    Moment-Based Method\n",
       "                </th>\n",
       "                <td>Stencil: D2Q9</td>\n",
       "                <td>Zero-Centered Storage: &#10003;</td>\n",
       "                <td>Force Model: Guo</td>\n",
       "            </tr>\n",
       "        </table>\n",
       "        \n",
       "        <table style=\"border:none; width: 100%\">\n",
       "            <tr>\n",
       "                <th colspan=\"3\" style=\"text-align: left\">\n",
       "                    Continuous Hydrodynamic Maxwellian Equilibrium\n",
       "                </th>\n",
       "                <td rowspan=\"2\" style=\"width: 50%; text-align: center\">\n",
       "                    $f (\\rho, \\left( u_{0}, \\  u_{1}\\right), \\left( v_{0}, \\  v_{1}\\right)) \n",
       "                        = \\frac{3 \\rho e^{- \\frac{3 \\left(- u_{0} + v_{0}\\right)^{2}}{2} - \\frac{3 \\left(- u_{1} + v_{1}\\right)^{2}}{2}}}{2 \\pi}$\n",
       "                </td>\n",
       "            </tr>\n",
       "            <tr>\n",
       "                <td>Compressible: &#10003;</td>\n",
       "                <td>Deviation Only: &#10007;</td>\n",
       "                <td>Order: 2</td>\n",
       "            </tr>\n",
       "        </table>\n",
       "        \n",
       "        <table style=\"border:none; width: 100%\">\n",
       "            <tr> <th colspan=\"3\" style=\"text-align: left\"> Relaxation Info </th> </tr>\n",
       "            <tr>\n",
       "                <th>Moment</th>\n",
       "                <th>Eq. Value </th>\n",
       "                <th>Relaxation Rate</th>\n",
       "            </tr>\n",
       "        <tr style=\"border:none\">\n",
       "                            <td style=\"border:none\">$1$</td>\n",
       "                            <td style=\"border:none\">$\\rho$</td>\n",
       "                            <td style=\"border:none\">$0$</td>\n",
       "                         </tr>\n",
       "<tr style=\"border:none\">\n",
       "                            <td style=\"border:none\">$x$</td>\n",
       "                            <td style=\"border:none\">$\\rho u_{0}$</td>\n",
       "                            <td style=\"border:none\">$\\omega_{\\phi}$</td>\n",
       "                         </tr>\n",
       "<tr style=\"border:none\">\n",
       "                            <td style=\"border:none\">$y$</td>\n",
       "                            <td style=\"border:none\">$\\rho u_{1}$</td>\n",
       "                            <td style=\"border:none\">$\\omega_{\\phi}$</td>\n",
       "                         </tr>\n",
       "<tr style=\"border:none\">\n",
       "                            <td style=\"border:none\">$x^{2} - y^{2}$</td>\n",
       "                            <td style=\"border:none\">$\\rho u_{0}^{2} - \\rho u_{1}^{2}$</td>\n",
       "                            <td style=\"border:none\">$1$</td>\n",
       "                         </tr>\n",
       "<tr style=\"border:none\">\n",
       "                            <td style=\"border:none\">$x y$</td>\n",
       "                            <td style=\"border:none\">$\\rho u_{0} u_{1}$</td>\n",
       "                            <td style=\"border:none\">$1$</td>\n",
       "                         </tr>\n",
       "<tr style=\"border:none\">\n",
       "                            <td style=\"border:none\">$3 x^{2} + 3 y^{2} - 2$</td>\n",
       "                            <td style=\"border:none\">$3 \\rho u_{0}^{2} + 3 \\rho u_{1}^{2}$</td>\n",
       "                            <td style=\"border:none\">$1$</td>\n",
       "                         </tr>\n",
       "<tr style=\"border:none\">\n",
       "                            <td style=\"border:none\">$3 x^{2} y - y$</td>\n",
       "                            <td style=\"border:none\">$0$</td>\n",
       "                            <td style=\"border:none\">$1$</td>\n",
       "                         </tr>\n",
       "<tr style=\"border:none\">\n",
       "                            <td style=\"border:none\">$3 x y^{2} - x$</td>\n",
       "                            <td style=\"border:none\">$0$</td>\n",
       "                            <td style=\"border:none\">$1$</td>\n",
       "                         </tr>\n",
       "<tr style=\"border:none\">\n",
       "                            <td style=\"border:none\">$9 x^{2} y^{2} - 3 x^{2} - 3 y^{2} + 1$</td>\n",
       "                            <td style=\"border:none\">$0$</td>\n",
       "                            <td style=\"border:none\">$1$</td>\n",
       "                         </tr>\n",
       "</table>"
      ],
      "text/plain": [
       "<lbmpy.methods.momentbased.momentbasedmethod.MomentBasedLbMethod at 0x126d44ee0>"
      ]
     },
     "execution_count": 9,
     "metadata": {},
     "output_type": "execute_result"
    }
   ],
   "source": [
    "w_c = parameters.symbolic_omega_phi\n",
    "\n",
    "config_phase = LBMConfig(stencil=stencil_phase, method=Method.MRT, compressible=True,\n",
    "                         delta_equilibrium=False,\n",
    "                         force=sp.symbols(\"F_:2\"), velocity_input=u,\n",
    "                         weighted=True, relaxation_rates=[0, w_c, w_c, 1, 1, 1, 1, 1, 1],\n",
    "                         output={'density': C_tmp}, kernel_type='stream_pull_collide')\n",
    "\n",
    "method_phase = create_lb_method(lbm_config=config_phase)\n",
    "\n",
    "method_phase"
   ]
  },
  {
   "cell_type": "code",
   "execution_count": 10,
   "metadata": {},
   "outputs": [
    {
     "data": {
      "text/html": [
       "\n",
       "        <table style=\"border:none; width: 100%\">\n",
       "            <tr>\n",
       "                <th colspan=\"3\" style=\"text-align: left\">\n",
       "                    Moment-Based Method\n",
       "                </th>\n",
       "                <td>Stencil: D2Q9</td>\n",
       "                <td>Zero-Centered Storage: &#10003;</td>\n",
       "                <td>Force Model: Guo</td>\n",
       "            </tr>\n",
       "        </table>\n",
       "        \n",
       "        <table style=\"border:none; width: 100%\">\n",
       "            <tr>\n",
       "                <th colspan=\"3\" style=\"text-align: left\">\n",
       "                    Continuous Hydrodynamic Maxwellian Equilibrium\n",
       "                </th>\n",
       "                <td rowspan=\"2\" style=\"width: 50%; text-align: center\">\n",
       "                    $f (\\rho, \\left( u_{0}, \\  u_{1}\\right), \\left( v_{0}, \\  v_{1}\\right)) \n",
       "                        = \\frac{3 \\delta_{\\rho} e^{- \\frac{3 v_{0}^{2}}{2} - \\frac{3 v_{1}^{2}}{2}}}{2 \\pi} - \\frac{3 e^{- \\frac{3 v_{0}^{2}}{2} - \\frac{3 v_{1}^{2}}{2}}}{2 \\pi} + \\frac{3 e^{- \\frac{3 \\left(- u_{0} + v_{0}\\right)^{2}}{2} - \\frac{3 \\left(- u_{1} + v_{1}\\right)^{2}}{2}}}{2 \\pi}$\n",
       "                </td>\n",
       "            </tr>\n",
       "            <tr>\n",
       "                <td>Compressible: &#10007;</td>\n",
       "                <td>Deviation Only: &#10003;</td>\n",
       "                <td>Order: 2</td>\n",
       "            </tr>\n",
       "        </table>\n",
       "        \n",
       "        <table style=\"border:none; width: 100%\">\n",
       "            <tr> <th colspan=\"3\" style=\"text-align: left\"> Relaxation Info </th> </tr>\n",
       "            <tr>\n",
       "                <th>Moment</th>\n",
       "                <th>Eq. Value </th>\n",
       "                <th>Relaxation Rate</th>\n",
       "            </tr>\n",
       "        <tr style=\"border:none\">\n",
       "                            <td style=\"border:none\">$1$</td>\n",
       "                            <td style=\"border:none\">$\\delta_{\\rho}$</td>\n",
       "                            <td style=\"border:none\">$0.0$</td>\n",
       "                         </tr>\n",
       "<tr style=\"border:none\">\n",
       "                            <td style=\"border:none\">$x$</td>\n",
       "                            <td style=\"border:none\">$u_{0}$</td>\n",
       "                            <td style=\"border:none\">$0.0$</td>\n",
       "                         </tr>\n",
       "<tr style=\"border:none\">\n",
       "                            <td style=\"border:none\">$y$</td>\n",
       "                            <td style=\"border:none\">$u_{1}$</td>\n",
       "                            <td style=\"border:none\">$0.0$</td>\n",
       "                         </tr>\n",
       "<tr style=\"border:none\">\n",
       "                            <td style=\"border:none\">$x^{2} - y^{2}$</td>\n",
       "                            <td style=\"border:none\">$u_{0}^{2} - u_{1}^{2}$</td>\n",
       "                            <td style=\"border:none\">$\\frac{2}{2 {C}_{(0,0)} \\left(\\tau_{H} - \\tau_{L}\\right) + 2 \\tau_{L} + 1}$</td>\n",
       "                         </tr>\n",
       "<tr style=\"border:none\">\n",
       "                            <td style=\"border:none\">$x y$</td>\n",
       "                            <td style=\"border:none\">$u_{0} u_{1}$</td>\n",
       "                            <td style=\"border:none\">$\\frac{2}{2 {C}_{(0,0)} \\left(\\tau_{H} - \\tau_{L}\\right) + 2 \\tau_{L} + 1}$</td>\n",
       "                         </tr>\n",
       "<tr style=\"border:none\">\n",
       "                            <td style=\"border:none\">$3 x^{2} + 3 y^{2} - 2$</td>\n",
       "                            <td style=\"border:none\">$3 u_{0}^{2} + 3 u_{1}^{2}$</td>\n",
       "                            <td style=\"border:none\">$1$</td>\n",
       "                         </tr>\n",
       "<tr style=\"border:none\">\n",
       "                            <td style=\"border:none\">$3 x^{2} y - y$</td>\n",
       "                            <td style=\"border:none\">$0$</td>\n",
       "                            <td style=\"border:none\">$1$</td>\n",
       "                         </tr>\n",
       "<tr style=\"border:none\">\n",
       "                            <td style=\"border:none\">$3 x y^{2} - x$</td>\n",
       "                            <td style=\"border:none\">$0$</td>\n",
       "                            <td style=\"border:none\">$1$</td>\n",
       "                         </tr>\n",
       "<tr style=\"border:none\">\n",
       "                            <td style=\"border:none\">$9 x^{2} y^{2} - 3 x^{2} - 3 y^{2} + 1$</td>\n",
       "                            <td style=\"border:none\">$0$</td>\n",
       "                            <td style=\"border:none\">$1$</td>\n",
       "                         </tr>\n",
       "</table>"
      ],
      "text/plain": [
       "<lbmpy.methods.momentbased.momentbasedmethod.MomentBasedLbMethod at 0x126d22eb0>"
      ]
     },
     "execution_count": 10,
     "metadata": {},
     "output_type": "execute_result"
    }
   ],
   "source": [
    "omega = parameters.omega(C)\n",
    "config_hydro = LBMConfig(stencil=stencil_hydro, method=Method.MRT, compressible=False,\n",
    "                         weighted=True, relaxation_rates=[omega, 1, 1, 1],\n",
    "                         force=sp.symbols(\"F_:2\"),\n",
    "                         output={'velocity': u}, kernel_type='collide_stream_push')\n",
    "\n",
    "method_hydro = create_lb_method(lbm_config=config_hydro)\n",
    "\n",
    "method_hydro"
   ]
  },
  {
   "cell_type": "markdown",
   "metadata": {},
   "source": [
    "## Initialization"
   ]
  },
  {
   "cell_type": "markdown",
   "metadata": {},
   "source": [
    "The probability distribution functions (pdfs) are initialised with the equilibrium distribution for the LB methods."
   ]
  },
  {
   "cell_type": "code",
   "execution_count": 11,
   "metadata": {},
   "outputs": [],
   "source": [
    "h_updates = initializer_kernel_phase_field_lb(method_phase, C, u, h, parameters)\n",
    "g_updates = initializer_kernel_hydro_lb(method_hydro, 1, u, g)\n",
    "\n",
    "h_init = ps.create_kernel(h_updates, target=dh.default_target, cpu_openmp=True).compile()\n",
    "g_init = ps.create_kernel(g_updates, target=dh.default_target, cpu_openmp=True).compile()"
   ]
  },
  {
   "cell_type": "markdown",
   "metadata": {},
   "source": [
    "Following this, the phase field is initialised directly in python."
   ]
  },
  {
   "cell_type": "code",
   "execution_count": 12,
   "metadata": {},
   "outputs": [],
   "source": [
    "# initialize the domain\n",
    "def Initialize_distributions():\n",
    "    Nx = domain_size[0]\n",
    "    Ny = domain_size[1]\n",
    "    \n",
    "    for block in dh.iterate(ghost_layers=True, inner_ghost_layers=False):\n",
    "        x = np.zeros_like(block.midpoint_arrays[0])\n",
    "        x[:, :] = block.midpoint_arrays[0]\n",
    "        \n",
    "        y = np.zeros_like(block.midpoint_arrays[1])\n",
    "        y[:, :] = block.midpoint_arrays[1]\n",
    "\n",
    "        y -= 2 * L0\n",
    "        tmp = 0.1 * Nx * np.cos((2 * np.pi * x) / Nx)\n",
    "        init_values = 0.5 + 0.5 * np.tanh((y - tmp) / (parameters.interface_thickness / 2))\n",
    "        block[\"C\"][:, :] = init_values\n",
    "        block[\"C_tmp\"][:, :] = init_values\n",
    "        \n",
    "    if gpu:\n",
    "        dh.all_to_gpu()            \n",
    "    \n",
    "    dh.run_kernel(h_init, **parameters.symbolic_to_numeric_map)\n",
    "    dh.run_kernel(g_init)"
   ]
  },
  {
   "cell_type": "code",
   "execution_count": 13,
   "metadata": {},
   "outputs": [
    {
     "data": {
      "text/plain": [
       "<matplotlib.image.AxesImage at 0x1417f86d0>"
      ]
     },
     "execution_count": 13,
     "metadata": {},
     "output_type": "execute_result"
    },
    {
     "data": {
      "image/png": "[encoded data removed]",
      "text/plain": [
       "<Figure size 1152x432 with 1 Axes>"
      ]
     },
     "metadata": {
      "needs_background": "light"
     },
     "output_type": "display_data"
    }
   ],
   "source": [
    "Initialize_distributions()\n",
    "plt.scalar_field(dh.gather_array(C.name))"
   ]
  },
  {
   "cell_type": "markdown",
   "metadata": {},
   "source": [
    "## Source Terms"
   ]
  },
  {
   "cell_type": "markdown",
   "metadata": {},
   "source": [
    "For the Allen-Cahn LB step, the Allen-Cahn equation needs to be applied as a source term. Here, a simple forcing model is used which is directly applied in the moment space: \n",
    "$$\n",
    "F_i^\\phi (\\boldsymbol{x}, t) = \\Delta t \\frac{\\left[1 - 4 \\left(\\phi - \\phi_0\\right)^2\\right]}{\\xi} w_i \\boldsymbol{c}_i \\cdot \\frac{\\nabla \\phi}{|{\\nabla \\phi}|},\n",
    "$$\n",
    "where $\\phi$ is the phase-field, $\\phi_0$ is the interface location, $\\Delta t$ it the timestep size $\\xi$ is the interface width, $\\boldsymbol{c}_i$ is the discrete direction from stencil_phase and $w_i$ are the weights. Furthermore, the equilibrium needs to be shifted:\n",
    "\n",
    "$$\n",
    "\\bar{h}^{eq}_\\alpha = h^{eq}_\\alpha - \\frac{1}{2} F^\\phi_\\alpha\n",
    "$$\n",
    "\n",
    "The hydrodynamic force is given by:\n",
    "$$\n",
    "F_i (\\boldsymbol{x}, t) = \\Delta t w_i \\frac{\\boldsymbol{c}_i \\boldsymbol{F}}{\\rho c_s^2},\n",
    "$$\n",
    "where $\\rho$ is the interpolated density and $\\boldsymbol{F}$ is the source term which consists of the pressure force \n",
    "$$\n",
    "\\boldsymbol{F}_p = -p^* c_s^2 \\nabla \\rho,\n",
    "$$\n",
    "the surface tension force:\n",
    "$$\n",
    "\\boldsymbol{F}_s = \\mu_\\phi \\nabla \\phi\n",
    "$$\n",
    "and the viscous force term:\n",
    "$$\n",
    "F_{\\mu, i}^{\\mathrm{MRT}} = - \\frac{\\nu}{c_s^2 \\Delta t} \\left[\\sum_{\\beta} c_{\\beta i} c_{\\beta j} \\times \\sum_{\\alpha} \\Omega_{\\beta \\alpha}(g_\\alpha - g_\\alpha^{\\mathrm{eq}})\\right] \\frac{\\partial \\rho}{\\partial x_j}.\n",
    "$$\n",
    "\n",
    "In the above equations $p^*$ is the normalised pressure which can be obtained from the zeroth order moment of the hydrodynamic distribution function $g$. The lattice speed of sound is given with $c_s$ and the chemical potential is $\\mu_\\phi$. Furthermore, the viscosity is $\\nu$ and $\\Omega$ is the moment-based collision operator. Note here that the hydrodynamic equilibrium is also adjusted as shown above for the phase-field distribution functions.\n",
    "\n",
    "\n",
    "For CLBM methods the forcing is applied directly in the central moment space. This is done with the `CentralMomentMultiphaseForceModel`. Furthermore, the GUO force model is applied here to be consistent with [A cascaded phase-field lattice Boltzmann model for the simulation of incompressible, immiscible fluids with high density contrast](http://dx.doi.org/10.1016/j.camwa.2019.08.018). Here we refer to equation D.7 which can be derived for 3D stencils automatically with lbmpy."
   ]
  },
  {
   "cell_type": "code",
   "execution_count": 14,
   "metadata": {},
   "outputs": [],
   "source": [
    "force_h = interface_tracking_force(C, stencil_phase, parameters)\n",
    "hydro_force = hydrodynamic_force(g, C, method_hydro, parameters, body_force)"
   ]
  },
  {
   "cell_type": "markdown",
   "metadata": {},
   "source": [
    "## Definition of the LB update rules"
   ]
  },
  {
   "cell_type": "markdown",
   "metadata": {},
   "source": [
    "The update rule for the phase-field LB step is defined as:\n",
    "\n",
    "$$\n",
    "h_i (\\boldsymbol{x} + \\boldsymbol{c}_i \\Delta t, t + \\Delta t) = h_i(\\boldsymbol{x}, t) + \\Omega_{ij}^h(\\bar{h_j}^{eq} - h_j)|_{(\\boldsymbol{x}, t)} + F_i^\\phi(\\boldsymbol{x}, t).\n",
    "$$\n",
    "In our framework the pull scheme is applied as streaming step. Furthermore, the update of the phase-field is directly integrated into the kernel. As a result of this, a second temporary phase-field is needed."
   ]
  },
  {
   "cell_type": "code",
   "execution_count": 15,
   "metadata": {},
   "outputs": [],
   "source": [
    "lbm_optimisation = LBMOptimisation(symbolic_field=h, symbolic_temporary_field=h_tmp)\n",
    "allen_cahn_update_rule = create_lb_update_rule(lbm_config=config_phase,\n",
    "                                               lbm_optimisation=lbm_optimisation)\n",
    "\n",
    "allen_cahn_update_rule = add_interface_tracking_force(allen_cahn_update_rule, force_h)\n",
    "\n",
    "ast_kernel = ps.create_kernel(allen_cahn_update_rule, target=dh.default_target, cpu_openmp=True)\n",
    "kernel_allen_cahn_lb = ast_kernel.compile()"
   ]
  },
  {
   "cell_type": "markdown",
   "metadata": {},
   "source": [
    "The update rule for the hydrodynmaic LB step is defined as:\n",
    "\n",
    "$$\n",
    "g_i (\\boldsymbol{x} + \\boldsymbol{c}_i \\Delta t, t + \\Delta t) = g_i(\\boldsymbol{x}, t) + \\Omega_{ij}^g(\\bar{g_j}^{eq} - g_j)|_{(\\boldsymbol{x}, t)} + F_i(\\boldsymbol{x}, t).\n",
    "$$\n",
    "\n",
    "Here, the push scheme is applied which is easier due to the data access required for the viscous force term. Furthermore, the velocity update is directly done in the kernel."
   ]
  },
  {
   "cell_type": "code",
   "execution_count": 16,
   "metadata": {
    "scrolled": false
   },
   "outputs": [],
   "source": [
    "force_Assignments = hydrodynamic_force_assignments(g, u, C, method_hydro, parameters, body_force)\n",
    "\n",
    "lbm_optimisation = LBMOptimisation(symbolic_field=g, symbolic_temporary_field=g_tmp)\n",
    "hydro_lb_update_rule = create_lb_update_rule(lbm_config=config_hydro,\n",
    "                                             lbm_optimisation=lbm_optimisation)\n",
    "\n",
    "hydro_lb_update_rule = add_hydrodynamic_force(hydro_lb_update_rule, force_Assignments, C, g, parameters)\n",
    "\n",
    "ast_kernel = ps.create_kernel(hydro_lb_update_rule, target=dh.default_target, cpu_openmp=True)\n",
    "kernel_hydro_lb = ast_kernel.compile()"
   ]
  },
  {
   "cell_type": "markdown",
   "metadata": {},
   "source": [
    "## Boundary Conditions"
   ]
  },
  {
   "cell_type": "markdown",
   "metadata": {},
   "source": [
    "As a last step suitable boundary conditions are applied"
   ]
  },
  {
   "cell_type": "code",
   "execution_count": 17,
   "metadata": {},
   "outputs": [],
   "source": [
    "# periodic Boundarys for g, h and C\n",
    "periodic_BC_C = dh.synchronization_function(C.name, target=dh.default_target, optimization = {\"openmp\": True})\n",
    "\n",
    "periodic_BC_g = LBMPeriodicityHandling(stencil=stencil_hydro, data_handling=dh, pdf_field_name=g.name,\n",
    "                                       streaming_pattern='push')\n",
    "periodic_BC_h = LBMPeriodicityHandling(stencil=stencil_phase, data_handling=dh, pdf_field_name=h.name,\n",
    "                                       streaming_pattern='pull')\n",
    "\n",
    "# No slip boundary for the phasefield lbm\n",
    "bh_allen_cahn = LatticeBoltzmannBoundaryHandling(method_phase, dh, 'h',\n",
    "                                                 target=dh.default_target, name='boundary_handling_h',\n",
    "                                                 streaming_pattern='pull')\n",
    "\n",
    "# No slip boundary for the velocityfield lbm\n",
    "bh_hydro = LatticeBoltzmannBoundaryHandling(method_hydro, dh, 'g' ,\n",
    "                                            target=dh.default_target, name='boundary_handling_g',\n",
    "                                            streaming_pattern='push')\n",
    "\n",
    "contact_angle = BoundaryHandling(dh, C.name, stencil_hydro, target=dh.default_target)\n",
    "contact = ContactAngle(90, parameters.interface_thickness)\n",
    "\n",
    "wall = NoSlip()\n",
    "if dimensions == 2:\n",
    "    bh_allen_cahn.set_boundary(wall, make_slice[:, 0])\n",
    "    bh_allen_cahn.set_boundary(wall, make_slice[:, -1])\n",
    "\n",
    "    bh_hydro.set_boundary(wall, make_slice[:, 0])\n",
    "    bh_hydro.set_boundary(wall, make_slice[:, -1])\n",
    "    \n",
    "    contact_angle.set_boundary(contact, make_slice[:, 0])\n",
    "    contact_angle.set_boundary(contact, make_slice[:, -1])\n",
    "else:\n",
    "    bh_allen_cahn.set_boundary(wall, make_slice[:, 0, :])\n",
    "    bh_allen_cahn.set_boundary(wall, make_slice[:, -1, :])\n",
    "\n",
    "    bh_hydro.set_boundary(wall, make_slice[:, 0, :])\n",
    "    bh_hydro.set_boundary(wall, make_slice[:, -1, :])\n",
    "    \n",
    "    contact_angle.set_boundary(contact, make_slice[:, 0, :])\n",
    "    contact_angle.set_boundary(contact, make_slice[:, -1, :])\n",
    "\n",
    "\n",
    "bh_allen_cahn.prepare()\n",
    "bh_hydro.prepare()\n",
    "contact_angle.prepare()"
   ]
  },
  {
   "cell_type": "markdown",
   "metadata": {},
   "source": [
    "## Full timestep"
   ]
  },
  {
   "cell_type": "code",
   "execution_count": 18,
   "metadata": {},
   "outputs": [],
   "source": [
    "# definition of the timestep for the immiscible fluids model\n",
    "def timeloop():\n",
    "    # Solve the interface tracking LB step with boundary conditions\n",
    "    periodic_BC_h()\n",
    "    bh_allen_cahn()    \n",
    "    dh.run_kernel(kernel_allen_cahn_lb, **parameters.symbolic_to_numeric_map)\n",
    "    dh.swap(\"C\", \"C_tmp\")\n",
    "    \n",
    "    # apply the three phase-phase contact angle\n",
    "    contact_angle()\n",
    "    # periodic BC of the phase-field\n",
    "    periodic_BC_C()\n",
    "    \n",
    "    # solve the hydro LB step with boundary conditions\n",
    "    dh.run_kernel(kernel_hydro_lb, **parameters.symbolic_to_numeric_map)\n",
    "    periodic_BC_g()\n",
    "    bh_hydro()\n",
    "\n",
    "    \n",
    "    # field swaps\n",
    "    dh.swap(\"h\", \"h_tmp\")\n",
    "    dh.swap(\"g\", \"g_tmp\")"
   ]
  },
  {
   "cell_type": "code",
   "execution_count": 19,
   "metadata": {
    "scrolled": false
   },
   "outputs": [
    {
     "data": {
      "text/html": [
       "<video controls width=\"80%\">\n",
       " <source src=\"data:video/x-m4v;base64,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\" type=\"video/mp4\">\n",
       " Your browser does not support the video tag.\n",
       "</video>"
      ],
      "text/plain": [
       "<IPython.core.display.HTML object>"
      ]
     },
     "execution_count": 19,
     "metadata": {},
     "output_type": "execute_result"
    }
   ],
   "source": [
    "Initialize_distributions()\n",
    "\n",
    "frames = 300\n",
    "steps_per_frame = (timesteps//frames) + 1\n",
    "\n",
    "if 'is_test_run' not in globals():\n",
    "    def run():\n",
    "        for i in range(steps_per_frame):\n",
    "            timeloop()\n",
    "            \n",
    "        if gpu:\n",
    "            dh.to_cpu(\"C\")\n",
    "        return dh.gather_array(C.name)\n",
    "\n",
    "    animation = plt.scalar_field_animation(run, frames=frames, rescale=True)\n",
    "    set_display_mode('video')\n",
    "    res = display_animation(animation)\n",
    "else:\n",
    "    timeloop()\n",
    "    res = None\n",
    "res"
   ]
  },
  {
   "cell_type": "markdown",
   "metadata": {},
   "source": [
    "Note that the video is played for 10 seconds while the simulation time is only 2 seconds!"
   ]
  }
 ],
 "metadata": {
  "kernelspec": {
   "display_name": "Python 3 (ipykernel)",
   "language": "python",
   "name": "python3"
  },
  "language_info": {
   "codemirror_mode": {
    "name": "ipython",
    "version": 3
   },
   "file_extension": ".py",
   "mimetype": "text/x-python",
   "name": "python",
   "nbconvert_exporter": "python",
   "pygments_lexer": "ipython3",
   "version": "3.9.9"
  }
 },
 "nbformat": 4,
 "nbformat_minor": 2
}
