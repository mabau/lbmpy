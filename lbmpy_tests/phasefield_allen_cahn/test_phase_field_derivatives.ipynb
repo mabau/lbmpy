{
 "cells": [
  {
   "cell_type": "code",
   "execution_count": 1,
   "metadata": {},
   "outputs": [],
   "source": [
    "from lbmpy.session import *\n",
    "from lbmpy.phasefield_allen_cahn.kernel_equations import *\n",
    "from lbmpy.phasefield_allen_cahn.parameter_calculation import AllenCahnParameters\n",
    "from pystencils import fields\n",
    "from pystencils import Field\n",
    "\n",
    "from lbmpy.creationfunctions import create_lb_method"
   ]
  },
  {
   "cell_type": "code",
   "execution_count": 2,
   "metadata": {},
   "outputs": [],
   "source": [
    "def apply(field_access: Field.Access, stencil, weights):\n",
    "    f = field_access\n",
    "    return sum(f.get_shifted(*offset) * weight for offset, weight in zip(stencil, weights))"
   ]
  },
  {
   "cell_type": "markdown",
   "metadata": {},
   "source": [
    "# test chemical potencial"
   ]
  },
  {
   "cell_type": "code",
   "execution_count": 3,
   "metadata": {},
   "outputs": [],
   "source": [
    "stencil = LBStencil(Stencil.D2Q9)\n",
    "dimensions = len(stencil[0])\n",
    "C = fields(\"phase_field: [\" + str(dimensions) + \"D]\", layout='fzyx')\n",
    "\n",
    "beta = 0\n",
    "kappa = 1\n",
    "\n",
    "a = chemical_potential_symbolic(C, stencil, beta, kappa)\n",
    "\n",
    "expected_result = sp.Array([20, -4, -4, -4, -4, -1, -1, -1, -1]) / 6\n",
    "b = apply(C.center, stencil, expected_result)\n",
    "\n",
    "assert a == b"
   ]
  },
  {
   "cell_type": "code",
   "execution_count": 4,
   "metadata": {},
   "outputs": [],
   "source": [
    "stencil = LBStencil(Stencil.D3Q15)\n",
    "dimensions = len(stencil[0])\n",
    "C = fields(\"phase_field: [\" + str(dimensions) + \"D]\", layout='fzyx')\n",
    "\n",
    "beta = 0\n",
    "kappa = 1\n",
    "\n",
    "a = chemical_potential_symbolic(C, stencil, beta, kappa)\n",
    "\n",
    "expected_result = sp.Array([256, -28, -28, -28, -28, -28, -28, -11, -11, -11, -11, -11, -11, -11, -11]) / 72\n",
    "b = apply(C.center, stencil, expected_result)\n",
    "\n",
    "assert a == b"
   ]
  },
  {
   "cell_type": "code",
   "execution_count": 5,
   "metadata": {},
   "outputs": [],
   "source": [
    "stencil = LBStencil(Stencil.D3Q19)\n",
    "dimensions = len(stencil[0])\n",
    "C = fields(\"phase_field: [\" + str(dimensions) + \"D]\", layout='fzyx')\n",
    "\n",
    "beta = 0\n",
    "kappa = 1\n",
    "\n",
    "a = chemical_potential_symbolic(C, stencil, beta, kappa)\n",
    "\n",
    "expected_result = sp.Array([24, -2, -2, -2, -2, -2, -2, -1, -1, -1, -1, -1, -1, -1, -1, -1, -1, -1, -1]) / 6\n",
    "b = apply(C.center, stencil, expected_result)\n",
    "\n",
    "assert a == b"
   ]
  },
  {
   "cell_type": "code",
   "execution_count": 6,
   "metadata": {},
   "outputs": [],
   "source": [
    "stencil = LBStencil(Stencil.D3Q27)\n",
    "dimensions = len(stencil[0])\n",
    "C = fields(\"phase_field: [\" + str(dimensions) + \"D]\", layout='fzyx')\n",
    "\n",
    "beta = 0\n",
    "kappa = 1\n",
    "\n",
    "a = chemical_potential_symbolic(C, stencil, beta, kappa)\n",
    "\n",
    "expected_result = sp.Array([152,\n",
    "                            -16, -16, -16, -16, -16, -16,\n",
    "                            -4, -4, -4, -4, -4, -4, -4, -4, -4, -4, -4, -4,\n",
    "                            -1, -1, -1, -1, -1, -1, -1, -1]) / 36\n",
    "b = apply(C.center, stencil, expected_result)\n",
    "\n",
    "assert a == b"
   ]
  },
  {
   "cell_type": "markdown",
   "metadata": {},
   "source": [
    "# test isotropic gradient"
   ]
  },
  {
   "cell_type": "code",
   "execution_count": 7,
   "metadata": {},
   "outputs": [],
   "source": [
    "stencil = LBStencil(Stencil.D2Q9)\n",
    "dimensions = len(stencil[0])\n",
    "C = fields(\"phase_field: [\" + str(dimensions) + \"D]\", layout='fzyx')\n",
    "\n",
    "a = isotropic_gradient_symbolic(C, stencil)\n",
    "\n",
    "expected_result = sp.Array([-1, -4, -1, 1, 4, 1]) / 12\n",
    "expected_grad_stencil = ((-1,-1), (-1,0), (-1,1), (1,-1), (1,0), (1,1))\n",
    "b = apply(C.center, expected_grad_stencil, expected_result)\n",
    "\n",
    "assert a[0] == b"
   ]
  },
  {
   "cell_type": "code",
   "execution_count": 8,
   "metadata": {},
   "outputs": [],
   "source": [
    "stencil = LBStencil(Stencil.D3Q15)\n",
    "dimensions = len(stencil[0])\n",
    "C = fields(\"phase_field: [\" + str(dimensions) + \"D]\", layout='fzyx')\n",
    "\n",
    "a = isotropic_gradient_symbolic(C, stencil)\n",
    "\n",
    "expected_result = sp.Array([-1, -1, -8, -1, -1, 1, 1, 8, 1, 1]) / 24\n",
    "expected_grad_stencil = ((-1,-1,-1), (-1,-1,1), (-1,0,0), (-1,1,-1), (-1,1,1), (1,-1,-1), (1,-1,1), (1,0,0), (1,1,-1), (1,1,1))\n",
    "b = apply(C.center, expected_grad_stencil, expected_result)\n",
    "\n",
    "assert a[0] == b"
   ]
  },
  {
   "cell_type": "code",
   "execution_count": 9,
   "metadata": {},
   "outputs": [],
   "source": [
    "stencil = LBStencil(Stencil.D3Q19)\n",
    "dimensions = len(stencil[0])\n",
    "C = fields(\"phase_field: [\" + str(dimensions) + \"D]\", layout='fzyx')\n",
    "\n",
    "a = isotropic_gradient_symbolic(C, stencil)\n",
    "\n",
    "expected_result = sp.Array([-1, -1, -2, -1, -1, 1, 1, 2, 1, 1]) / 12\n",
    "expected_grad_stencil = ((-1,-1,0), (-1,0,-1), (-1,0,0), (-1,0,1), (-1,1,0), (1,-1,0), (1,0,-1), (1,0,0), (1,0,1), (1,1,0))\n",
    "b = apply(C.center, expected_grad_stencil, expected_result)\n",
    "\n",
    "assert a[0] == b"
   ]
  },
  {
   "cell_type": "code",
   "execution_count": 10,
   "metadata": {},
   "outputs": [],
   "source": [
    "stencil = LBStencil(Stencil.D3Q27)\n",
    "dimensions = len(stencil[0])\n",
    "C = fields(\"phase_field: [\" + str(dimensions) + \"D]\", layout='fzyx')\n",
    "\n",
    "a = isotropic_gradient_symbolic(C, stencil)\n",
    "\n",
    "expected_result = sp.Array([-1, -4, -1, -4, -16, -4, -1, -4, -1, 1, 4, 1, 4, 16, 4, 1, 4, 1]) / 72\n",
    "expected_grad_stencil = ((-1,-1,-1), (-1,-1,0), (-1,-1,1), (-1,0,-1), (-1,0,0), (-1,0,1), (-1,1,-1), (-1,1,0), (-1,1,1),\n",
    "                         (1,-1,-1), (1,-1,0), (1,-1,1), (1,0,-1), (1,0,0), (1,0,1), (1,1,-1), (1,1,0), (1,1,1))\n",
    "b = apply(C.center, expected_grad_stencil, expected_result)\n",
    "\n",
    "assert a[0] == b"
   ]
  },
  {
   "cell_type": "code",
   "execution_count": 11,
   "metadata": {},
   "outputs": [],
   "source": [
    "ng = normalized_isotropic_gradient_symbolic(C, stencil)\n",
    "\n",
    "tmp = (sum(map(lambda x: x * x, a)) + 1.e-32) ** 0.5 \n",
    "\n",
    "assert ng[0] == a[0] / tmp"
   ]
  },
  {
   "cell_type": "markdown",
   "metadata": {},
   "source": [
    "# test hydrodynamic force"
   ]
  },
  {
   "cell_type": "code",
   "execution_count": 12,
   "metadata": {},
   "outputs": [],
   "source": [
    "stencil = LBStencil(Stencil.D3Q27)\n",
    "dimensions = len(stencil[0])\n",
    "C = fields(\"phase_field: [\" + str(dimensions) + \"D]\", layout='fzyx')\n",
    "g = fields(\"lb_velocity_field(\" + str(len(stencil)) + \"): [\" + str(dimensions) + \"D]\", layout='fzyx')\n",
    "\n",
    "tau = 0.53\n",
    "\n",
    "lbm_config = LBMConfig(stencil=stencil, method=Method.MRT, relaxation_rates=[1/tau, 1, 1, 1, 1, 1])\n",
    "lb_method = create_lb_method(lbm_config=lbm_config)"
   ]
  },
  {
   "cell_type": "code",
   "execution_count": 13,
   "metadata": {},
   "outputs": [],
   "source": [
    "parameters = AllenCahnParameters(density_heavy=1, density_light=0.1,\n",
    "                                 dynamic_viscosity_heavy=0.016, dynamic_viscosity_light=0.16,\n",
    "                                 surface_tension=1e-5)"
   ]
  },
  {
   "cell_type": "code",
   "execution_count": 14,
   "metadata": {},
   "outputs": [],
   "source": [
    "a = hydrodynamic_force(g, C, lb_method, parameters, [0, 0, 0] , fd_stencil=None)\n",
    "b = hydrodynamic_force(g, C, lb_method, parameters, [0, 0, 0] , fd_stencil=LBStencil(Stencil.D3Q27))\n",
    "c = hydrodynamic_force(g, C, lb_method, parameters, [0, 0, 0] , fd_stencil=LBStencil(Stencil.D3Q19))\n",
    "d = hydrodynamic_force(g, C, lb_method, parameters, [0, 0, 0] , fd_stencil=LBStencil(Stencil.D3Q15))"
   ]
  },
  {
   "cell_type": "code",
   "execution_count": 15,
   "metadata": {},
   "outputs": [],
   "source": [
    "b[0] = b[0].subs(parameters.symbolic_to_numeric_map)\n",
    "b[1] = b[1].subs(parameters.symbolic_to_numeric_map)\n",
    "b[2] = b[2].subs(parameters.symbolic_to_numeric_map)"
   ]
  },
  {
   "cell_type": "code",
   "execution_count": 16,
   "metadata": {},
   "outputs": [],
   "source": [
    "beta = parameters.beta.subs(parameters.symbolic_to_numeric_map)\n",
    "kappa = parameters.kappa.subs(parameters.symbolic_to_numeric_map)\n",
    "\n",
    "tau_L = parameters.relaxation_time_light\n",
    "tau_H = parameters.relaxation_time_heavy\n",
    "\n",
    "tau = sp.Rational(1, 2) + tau_L + C.center * (tau_H - tau_L)"
   ]
  },
  {
   "cell_type": "code",
   "execution_count": 17,
   "metadata": {},
   "outputs": [],
   "source": [
    "pf = pressure_force(C, lb_method, stencil, 1, 0.1)\n",
    "vf = viscous_force(g, C, lb_method, tau, 1, 0.1)\n",
    "sf = surface_tension_force(C, stencil, beta, kappa)\n",
    "\n",
    "assert sp.simplify(pf[0] + vf[0] + sf[0] - b[0]) == 0\n",
    "assert sp.simplify(pf[1] + vf[1] + sf[1] - b[1]) == 0\n",
    "assert sp.simplify(pf[2] + vf[2] + sf[2] - b[2]) == 0"
   ]
  },
  {
   "cell_type": "code",
   "execution_count": 18,
   "metadata": {},
   "outputs": [],
   "source": [
    "stencil = LBStencil(Stencil.D2Q9)\n",
    "dimensions = len(stencil[0])\n",
    "C = fields(\"phase_field: [\" + str(dimensions) + \"D]\", layout='fzyx')\n",
    "g = fields(\"lb_velocity_field(\" + str(len(stencil)) + \"): [\" + str(dimensions) + \"D]\", layout='fzyx')\n",
    "\n",
    "tau = 0.53\n",
    "\n",
    "lbm_config = LBMConfig(stencil=stencil, method=Method.MRT, relaxation_rates=[1/tau, 1, 1, 1, 1, 1])\n",
    "lb_method = create_lb_method(lbm_config=lbm_config)\n",
    "\n",
    "a = hydrodynamic_force(g, C, lb_method, parameters, [0, 0, 0] , fd_stencil=None)\n",
    "b = hydrodynamic_force(g, C, lb_method, parameters, [0, 0, 0] , fd_stencil=stencil)"
   ]
  }
 ],
 "metadata": {
  "kernelspec": {
   "display_name": "Python 3 (ipykernel)",
   "language": "python",
   "name": "python3"
  },
  "language_info": {
   "codemirror_mode": {
    "name": "ipython",
    "version": 3
   },
   "file_extension": ".py",
   "mimetype": "text/x-python",
   "name": "python",
   "nbconvert_exporter": "python",
   "pygments_lexer": "ipython3",
   "version": "3.9.9"
  }
 },
 "nbformat": 4,
 "nbformat_minor": 2
}
