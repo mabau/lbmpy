{
 "cells": [
  {
   "cell_type": "code",
   "execution_count": 1,
   "metadata": {},
   "outputs": [],
   "source": [
    "import pystencils as ps\n",
    "from lbmpy.session import *\n",
    "from lbmpy.boundaries.boundaries_in_kernel import update_rule_with_push_boundaries\n",
    "from lbmpy.macroscopic_value_kernels import macroscopic_values_getter, macroscopic_values_setter\n",
    "from collections import OrderedDict\n",
    "from time import perf_counter"
   ]
  },
  {
   "cell_type": "markdown",
   "metadata": {},
   "source": [
    "# Version 1: compile-in boundaries"
   ]
  },
  {
   "cell_type": "code",
   "execution_count": 2,
   "metadata": {},
   "outputs": [],
   "source": [
    "domain_size = (32, 32, 32)\n",
    "relaxation_rate = 1.8\n",
    "time_steps = 100\n",
    "lid_velocity = 0.05\n",
    "stencil = LBStencil(Stencil.D3Q19)"
   ]
  },
  {
   "cell_type": "code",
   "execution_count": 3,
   "metadata": {},
   "outputs": [],
   "source": [
    "dh = create_data_handling(domain_size, default_target=ps.Target.CPU)\n",
    "pdfs = dh.add_array('pdfs', values_per_cell=stencil.Q)\n",
    "u = dh.add_array('u', values_per_cell=stencil.D)\n",
    "streaming_pattern = 'aa'"
   ]
  },
  {
   "cell_type": "code",
   "execution_count": 4,
   "metadata": {},
   "outputs": [
    {
     "name": "stderr",
     "output_type": "stream",
     "text": [
      "WARNING:root:Using Nodes is experimental and not fully tested. Double check your generated code!\n",
      "WARNING:root:Using Nodes is experimental and not fully tested. Double check your generated code!\n",
      "WARNING:root:Using Nodes is experimental and not fully tested. Double check your generated code!\n"
     ]
    }
   ],
   "source": [
    "boundaries = OrderedDict((\n",
    "    ((0, 1, 0), UBB([lid_velocity, 0, 0])),    \n",
    "    ((1, 0, 0), NoSlip()),\n",
    "    ((-1, 0, 0), NoSlip()),\n",
    "    ((0, -1, 0), NoSlip()),\n",
    "    ((0, 0, 1), NoSlip()),\n",
    "    ((0, 0, -1), NoSlip()),\n",
    "))\n",
    "\n",
    "lbm_opt = LBMOptimisation(symbolic_field=pdfs, cse_global=False, cse_pdfs=False)\n",
    "lbm_config = LBMConfig(stencil=stencil, relaxation_rate=relaxation_rate, compressible=False)\n",
    "\n",
    "cr_even = create_lb_collision_rule(lbm_config=lbm_config, lbm_optimisation=lbm_opt)\n",
    "cr_odd = create_lb_collision_rule(lbm_config=lbm_config, lbm_optimisation=lbm_opt)\n",
    "update_rule_aa_even = update_rule_with_push_boundaries(cr_even, pdfs, boundaries, streaming_pattern, Timestep.EVEN)\n",
    "update_rule_aa_odd = update_rule_with_push_boundaries(cr_odd, pdfs, boundaries, streaming_pattern, Timestep.ODD)\n",
    "\n",
    "getter_assignments = macroscopic_values_getter(update_rule_aa_even.method, velocity=u.center_vector,\n",
    "                                               pdfs=pdfs, density=None,\n",
    "                                               streaming_pattern=streaming_pattern, \n",
    "                                               previous_timestep=Timestep.EVEN)\n",
    "\n",
    "config = ps.CreateKernelConfig(target=dh.default_target)\n",
    "getter_kernel = ps.create_kernel(getter_assignments, config=config).compile()\n",
    "even_kernel = ps.create_kernel(update_rule_aa_even, config=config).compile()\n",
    "odd_kernel = ps.create_kernel(update_rule_aa_odd, config=config).compile()"
   ]
  },
  {
   "cell_type": "code",
   "execution_count": 5,
   "metadata": {},
   "outputs": [],
   "source": [
    "def init():\n",
    "    dh.fill(pdfs.name, 0, ghost_layers=True)\n",
    "\n",
    "def aa_time_loop(steps=100):\n",
    "    assert steps % 2 == 0, \"Works only for an even number of time steps\"\n",
    "    dh.all_to_gpu()\n",
    "    for i in range(steps // 2):\n",
    "        dh.run_kernel(odd_kernel)\n",
    "        dh.run_kernel(even_kernel)\n",
    "    dh.run_kernel(getter_kernel)        \n",
    "    dh.all_to_cpu()"
   ]
  },
  {
   "cell_type": "code",
   "execution_count": 6,
   "metadata": {},
   "outputs": [
    {
     "data": {
      "text/plain": [
       "<matplotlib.colorbar.Colorbar at 0x13b12c820>"
      ]
     },
     "execution_count": 6,
     "metadata": {},
     "output_type": "execute_result"
    },
    {
     "data": {
      "image/png": "[encoded data removed]",
      "text/plain": [
       "<Figure size 1152x432 with 2 Axes>"
      ]
     },
     "metadata": {
      "needs_background": "light"
     },
     "output_type": "display_data"
    }
   ],
   "source": [
    "init()\n",
    "aa_time_loop(time_steps)\n",
    "vel_version1 = dh.gather_array(u.name, ghost_layers=False).copy()\n",
    "plt.vector_field_magnitude(vel_version1[:, :, domain_size[2]//2, :])\n",
    "plt.colorbar()"
   ]
  },
  {
   "cell_type": "markdown",
   "metadata": {},
   "source": [
    "# Version 2: Normal boundary handling"
   ]
  },
  {
   "cell_type": "code",
   "execution_count": 7,
   "metadata": {},
   "outputs": [
    {
     "name": "stderr",
     "output_type": "stream",
     "text": [
      "WARNING:root:Using Nodes is experimental and not fully tested. Double check your generated code!\n",
      "WARNING:root:Using Nodes is experimental and not fully tested. Double check your generated code!\n",
      "WARNING:root:Using Nodes is experimental and not fully tested. Double check your generated code!\n",
      "WARNING:root:Lhs\"dir of type \"int64_t\" is assigned with a different datatype rhs: \"indexField[0](dir)\" of type \"int32_t\".\n",
      "WARNING:root:Lhs\"dir of type \"int64_t\" is assigned with a different datatype rhs: \"indexField[0](dir)\" of type \"int32_t\".\n"
     ]
    },
    {
     "data": {
      "text/plain": [
       "<matplotlib.colorbar.Colorbar at 0x149a4a190>"
      ]
     },
     "execution_count": 7,
     "metadata": {},
     "output_type": "execute_result"
    },
    {
     "data": {
      "image/png": "[encoded data removed]",
      "text/plain": [
       "<Figure size 1152x432 with 2 Axes>"
      ]
     },
     "metadata": {
      "needs_background": "light"
     },
     "output_type": "display_data"
    }
   ],
   "source": [
    "ldc = create_lid_driven_cavity(domain_size, relaxation_rate=relaxation_rate, lid_velocity=lid_velocity)\n",
    "ldc.run(time_steps)\n",
    "vel_version2 = ldc.velocity[:, :, :, :]\n",
    "\n",
    "plt.vector_field_magnitude(vel_version2[:, :, domain_size[2]//2, :])\n",
    "plt.colorbar()"
   ]
  },
  {
   "cell_type": "code",
   "execution_count": 8,
   "metadata": {},
   "outputs": [],
   "source": [
    "np.testing.assert_almost_equal(vel_version1[1:-1, 1:-1, :], vel_version2[1:-1, 1:-1, :], decimal=2)"
   ]
  }
 ],
 "metadata": {
  "kernelspec": {
   "display_name": "Python 3 (ipykernel)",
   "language": "python",
   "name": "python3"
  },
  "language_info": {
   "codemirror_mode": {
    "name": "ipython",
    "version": 3
   },
   "file_extension": ".py",
   "mimetype": "text/x-python",
   "name": "python",
   "nbconvert_exporter": "python",
   "pygments_lexer": "ipython3",
   "version": "3.9.9"
  }
 },
 "nbformat": 4,
 "nbformat_minor": 4
}
