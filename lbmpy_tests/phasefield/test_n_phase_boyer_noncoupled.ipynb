{
 "cells": [
  {
   "cell_type": "code",
   "execution_count": 1,
   "metadata": {},
   "outputs": [
    {
     "ename": "Skipped",
     "evalue": "could not import 'pycuda': No module named 'pycuda'",
     "output_type": "error",
     "traceback": [
      "\u001b[0;31m---------------------------------------------------------------------------\u001b[0m",
      "\u001b[0;31mSkipped\u001b[0m                                   Traceback (most recent call last)",
      "\u001b[0;32m/var/folders/07/0d7kq8fd0sx24cs53zz90_qc0000gp/T/ipykernel_16968/622163826.py\u001b[0m in \u001b[0;36m<module>\u001b[0;34m\u001b[0m\n\u001b[1;32m      1\u001b[0m \u001b[0;32mimport\u001b[0m \u001b[0mpytest\u001b[0m\u001b[0;34m\u001b[0m\u001b[0;34m\u001b[0m\u001b[0m\n\u001b[0;32m----> 2\u001b[0;31m \u001b[0mpytest\u001b[0m\u001b[0;34m.\u001b[0m\u001b[0mimportorskip\u001b[0m\u001b[0;34m(\u001b[0m\u001b[0;34m'pycuda'\u001b[0m\u001b[0;34m)\u001b[0m\u001b[0;34m\u001b[0m\u001b[0;34m\u001b[0m\u001b[0m\n\u001b[0m",
      "\u001b[0;32m/opt/local/Library/Frameworks/Python.framework/Versions/3.9/lib/python3.9/site-packages/_pytest/outcomes.py\u001b[0m in \u001b[0;36mimportorskip\u001b[0;34m(modname, minversion, reason)\u001b[0m\n\u001b[1;32m    210\u001b[0m             \u001b[0;32mif\u001b[0m \u001b[0mreason\u001b[0m \u001b[0;32mis\u001b[0m \u001b[0;32mNone\u001b[0m\u001b[0;34m:\u001b[0m\u001b[0;34m\u001b[0m\u001b[0;34m\u001b[0m\u001b[0m\n\u001b[1;32m    211\u001b[0m                 \u001b[0mreason\u001b[0m \u001b[0;34m=\u001b[0m \u001b[0;34mf\"could not import {modname!r}: {exc}\"\u001b[0m\u001b[0;34m\u001b[0m\u001b[0;34m\u001b[0m\u001b[0m\n\u001b[0;32m--> 212\u001b[0;31m             \u001b[0;32mraise\u001b[0m \u001b[0mSkipped\u001b[0m\u001b[0;34m(\u001b[0m\u001b[0mreason\u001b[0m\u001b[0;34m,\u001b[0m \u001b[0mallow_module_level\u001b[0m\u001b[0;34m=\u001b[0m\u001b[0;32mTrue\u001b[0m\u001b[0;34m)\u001b[0m \u001b[0;32mfrom\u001b[0m \u001b[0;32mNone\u001b[0m\u001b[0;34m\u001b[0m\u001b[0;34m\u001b[0m\u001b[0m\n\u001b[0m\u001b[1;32m    213\u001b[0m     \u001b[0mmod\u001b[0m \u001b[0;34m=\u001b[0m \u001b[0msys\u001b[0m\u001b[0;34m.\u001b[0m\u001b[0mmodules\u001b[0m\u001b[0;34m[\u001b[0m\u001b[0mmodname\u001b[0m\u001b[0;34m]\u001b[0m\u001b[0;34m\u001b[0m\u001b[0;34m\u001b[0m\u001b[0m\n\u001b[1;32m    214\u001b[0m     \u001b[0;32mif\u001b[0m \u001b[0mminversion\u001b[0m \u001b[0;32mis\u001b[0m \u001b[0;32mNone\u001b[0m\u001b[0;34m:\u001b[0m\u001b[0;34m\u001b[0m\u001b[0;34m\u001b[0m\u001b[0m\n",
      "\u001b[0;31mSkipped\u001b[0m: could not import 'pycuda': No module named 'pycuda'"
     ]
    }
   ],
   "source": [
    "import pytest\n",
    "pytest.importorskip('pycuda')"
   ]
  },
  {
   "cell_type": "code",
   "execution_count": null,
   "metadata": {},
   "outputs": [],
   "source": [
    "from lbmpy.session import *\n",
    "from lbmpy.phasefield.n_phase_boyer import *\n",
    "from lbmpy.phasefield.kerneleqs import *\n",
    "from lbmpy.phasefield.contact_angle_circle_fitting import *\n",
    "from scipy.ndimage.filters import gaussian_filter\n",
    "from pystencils.simp import sympy_cse_on_assignment_list\n",
    "one = sp.sympify(1)\n",
    "\n",
    "import pyximport\n",
    "pyximport.install(language_level=3)\n",
    "from lbmpy.phasefield.simplex_projection import simplex_projection_2d  # NOQA"
   ]
  },
  {
   "cell_type": "markdown",
   "metadata": {},
   "source": [
    "# Simulation arbitrary surface tension case"
   ]
  },
  {
   "cell_type": "code",
   "execution_count": null,
   "metadata": {},
   "outputs": [],
   "source": [
    "n = 4\n",
    "dx, dt = 1, 1\n",
    "mobility = 2e-3\n",
    "domain_size = (150, 150)\n",
    "ε = one * 4\n",
    "penalty_factor = 0\n",
    "stabilization_factor = 10\n",
    "\n",
    "κ = (one,  one/2, one/3, one/4)\n",
    "sigma_factor = one / 15\n",
    "σ = sp.ImmutableDenseMatrix(n, n, lambda i,j: sigma_factor* (κ[i] + κ[j]) if i != j else 0 )\n",
    "#σ"
   ]
  },
  {
   "cell_type": "code",
   "execution_count": null,
   "metadata": {},
   "outputs": [],
   "source": [
    "dh = create_data_handling(domain_size, periodicity=True, default_target=ps.Target.GPU)\n",
    "c = dh.add_array('c', values_per_cell=n)\n",
    "c_tmp = dh.add_array_like('c_tmp', 'c')\n",
    "\n",
    "μ = dh.add_array('mu', values_per_cell=n)\n",
    "\n",
    "cvec = c.center_vector\n",
    "μvec = μ.center_vector"
   ]
  },
  {
   "cell_type": "code",
   "execution_count": null,
   "metadata": {},
   "outputs": [],
   "source": [
    "α, _ = diffusion_coefficients(σ)\n",
    "\n",
    "f = lambda c: c**2 * ( 1 - c ) **2\n",
    "a, b = compute_ab(f)\n",
    "\n",
    "capital_f = capital_f0(cvec, σ) + correction_g(cvec, σ) + stabilization_factor * stabilization_term(cvec, α)\n",
    "\n",
    "f_bulk = free_energy_bulk(capital_f, b, ε) + penalty_factor * (one - sum(cvec))\n",
    "f_if = free_energy_interfacial(cvec, σ, a, ε)\n",
    "f = f_bulk + f_if"
   ]
  },
  {
   "cell_type": "code",
   "execution_count": null,
   "metadata": {},
   "outputs": [],
   "source": [
    "#f_bulk"
   ]
  },
  {
   "cell_type": "code",
   "execution_count": null,
   "metadata": {},
   "outputs": [],
   "source": [
    "μ_assignments = mu_kernel(f, cvec, c, μ)\n",
    "μ_assignments = [Assignment(a.lhs, a.rhs.doit()) for a in μ_assignments]\n",
    "μ_assignments = sympy_cse_on_assignment_list(μ_assignments)"
   ]
  },
  {
   "cell_type": "code",
   "execution_count": null,
   "metadata": {},
   "outputs": [],
   "source": [
    "discretize = fd.Discretization2ndOrder(dx=dx, dt=dt)"
   ]
  },
  {
   "cell_type": "code",
   "execution_count": null,
   "metadata": {},
   "outputs": [],
   "source": [
    "def lapl(e):\n",
    "    return sum(ps.fd.diff(e, d, d) for d in range(dh.dim))"
   ]
  },
  {
   "cell_type": "code",
   "execution_count": null,
   "metadata": {},
   "outputs": [],
   "source": [
    "rhs = α * μvec\n",
    "discretized_rhs = [discretize(fd.expand_diff_full( lapl(mobility * rhs_i) + fd.transient(cvec[i], idx=i), functions=μvec))\n",
    "                   for i, rhs_i in enumerate(rhs)]\n",
    "c_assignments = [Assignment(lhs, rhs) \n",
    "                 for lhs, rhs in zip(c_tmp.center_vector, discretized_rhs)]"
   ]
  },
  {
   "cell_type": "code",
   "execution_count": null,
   "metadata": {},
   "outputs": [],
   "source": [
    "#c_assignments"
   ]
  },
  {
   "cell_type": "code",
   "execution_count": null,
   "metadata": {},
   "outputs": [],
   "source": [
    "μ_sync = dh.synchronization_function(μ.name)\n",
    "c_sync = dh.synchronization_function(c.name)\n",
    "optimization = {'cpu_openmp': False, 'cpu_vectorize_info': None}\n",
    "\n",
    "config = ps.CreateKernelConfig(cpu_openmp=False, target=dh.default_target)\n",
    "\n",
    "μ_kernel = create_kernel(μ_assignments, config=config).compile()\n",
    "c_kernel = create_kernel(c_assignments, config=config).compile()\n",
    "\n",
    "def set_c(slice_obj, values):\n",
    "    for block in dh.iterate(slice_obj):\n",
    "        arr = block[c.name]\n",
    "        arr[..., : ] = values\n",
    "\n",
    "def smooth():\n",
    "    for block in dh.iterate(ghost_layers=True):\n",
    "        c_arr = block[c.name]\n",
    "        for i in range(n):\n",
    "            gaussian_filter(c_arr[..., i], sigma=2, output=c_arr[..., i])\n",
    "        \n",
    "def time_loop(steps):\n",
    "    dh.all_to_gpu()\n",
    "    for t in range(steps):\n",
    "        c_sync()\n",
    "        dh.run_kernel(μ_kernel)\n",
    "        μ_sync()\n",
    "        dh.run_kernel(c_kernel)\n",
    "        dh.swap(c.name, c_tmp.name)\n",
    "        #simplex_projection_2d(dh.cpu_arrays[c.name])\n",
    "    dh.all_to_cpu()"
   ]
  },
  {
   "cell_type": "code",
   "execution_count": null,
   "metadata": {},
   "outputs": [],
   "source": [
    "set_c(make_slice[:, :], [0, 0, 0, 0])\n",
    "set_c(make_slice[:, 0.5:], [1, 0, 0, 0])\n",
    "set_c(make_slice[:, :0.5], [0, 1, 0, 0])\n",
    "set_c(make_slice[0.3:0.7, 0.3:0.7], [0, 0, 1, 0])\n",
    "smooth()"
   ]
  },
  {
   "cell_type": "code",
   "execution_count": null,
   "metadata": {},
   "outputs": [],
   "source": [
    "#dh.load_all('n_phases_state_size200_stab10.npz')"
   ]
  },
  {
   "cell_type": "code",
   "execution_count": null,
   "metadata": {},
   "outputs": [],
   "source": [
    "plt.phase_plot(dh.gather_array(c.name))"
   ]
  },
  {
   "cell_type": "code",
   "execution_count": null,
   "metadata": {},
   "outputs": [],
   "source": [
    "neumann_angles_from_surface_tensions(lambda i, j: float(σ[i, j]))"
   ]
  },
  {
   "cell_type": "code",
   "execution_count": null,
   "metadata": {},
   "outputs": [],
   "source": [
    "import time\n",
    "for i in range(10):\n",
    "    start = time.perf_counter()\n",
    "    time_loop(1_000)\n",
    "    end = time.perf_counter()\n",
    "\n",
    "    try:\n",
    "        print(i, end - start, liquid_lens_neumann_angles(dh.gather_array(c.name)))\n",
    "    except Exception:\n",
    "        print(i, end - start, \"none found\")"
   ]
  },
  {
   "cell_type": "code",
   "execution_count": null,
   "metadata": {},
   "outputs": [],
   "source": [
    "plt.subplot(1,3,1)\n",
    "t = dh.gather_array(c.name, make_slice[25, :]).squeeze()\n",
    "plt.plot(t);\n",
    "\n",
    "plt.subplot(1,3,2)\n",
    "plt.phase_plot(dh.gather_array(c.name), linewidth=1)\n",
    "\n",
    "plt.subplot(1,3,3)\n",
    "plt.scalar_field(dh.gather_array(μ.name)[:, :, 2])\n",
    "plt.colorbar();"
   ]
  },
  {
   "cell_type": "code",
   "execution_count": null,
   "metadata": {},
   "outputs": [],
   "source": [
    "assert not np.isnan(dh.max(c.name))"
   ]
  },
  {
   "cell_type": "code",
   "execution_count": null,
   "metadata": {},
   "outputs": [],
   "source": [
    "t = dh.gather_array(c.name, make_slice[25, 55:90]).squeeze()\n",
    "plt.hlines(0.5, 0, 30)\n",
    "plt.plot(t);"
   ]
  }
 ],
 "metadata": {
  "kernelspec": {
   "display_name": "Python 3 (ipykernel)",
   "language": "python",
   "name": "python3"
  },
  "language_info": {
   "codemirror_mode": {
    "name": "ipython",
    "version": 3
   },
   "file_extension": ".py",
   "mimetype": "text/x-python",
   "name": "python",
   "nbconvert_exporter": "python",
   "pygments_lexer": "ipython3",
   "version": "3.9.9"
  }
 },
 "nbformat": 4,
 "nbformat_minor": 2
}
